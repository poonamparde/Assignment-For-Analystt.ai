{
 "cells": [
  {
   "cell_type": "code",
   "execution_count": null,
   "id": "313305c7",
   "metadata": {},
   "outputs": [],
   "source": [
    "import requests\n",
    "\n",
    "# Get your API key from Beeper\n",
    "API_KEY = \"YOUR_API_KEY\"\n",
    "\n",
    "# Create a request to send a message\n",
    "request = requests.post(\n",
    "    \"https://api.beeper.com/v1/linkedin/messages/send\",\n",
    "    headers={\n",
    "        \"Authorization\": \"Bearer {}\".format(API_KEY),\n",
    "    },\n",
    "    json={\n",
    "        \"recipient\": \"RECIPIENT_LINKEDIN_URL\",\n",
    "        \"subject\": \"Message subject\",\n",
    "        \"body\": \"Message body\",\n",
    "    },\n",
    ")\n",
    "\n",
    "# Check the response status code\n",
    "if request.status_code == 200:\n",
    "    print(\"Message sent successfully\")\n",
    "else:\n",
    "    print(\"Error sending message: {}\".format(request.content))\n",
    "\n"
   ]
  }
 ],
 "metadata": {
  "kernelspec": {
   "display_name": "Python 3 (ipykernel)",
   "language": "python",
   "name": "python3"
  },
  "language_info": {
   "codemirror_mode": {
    "name": "ipython",
    "version": 3
   },
   "file_extension": ".py",
   "mimetype": "text/x-python",
   "name": "python",
   "nbconvert_exporter": "python",
   "pygments_lexer": "ipython3",
   "version": "3.9.7"
  }
 },
 "nbformat": 4,
 "nbformat_minor": 5
}
